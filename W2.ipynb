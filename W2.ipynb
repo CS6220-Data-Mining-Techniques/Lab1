{
 "cells": [
  {
   "cell_type": "markdown",
   "metadata": {
    "id": "531nzudAnqC_"
   },
   "source": [
    "#**LAB 1: List basics**\n",
    "\n",
    "Given the user inputs, complete a program that does the following tasks:\n",
    "- Define a list, `myList`, containing the user inputs `myFlower1`, `myFlower2`, and `myFlower3` in the same order.\n",
    "- Define a list, `yourList`, containing the user inputs `yourFlower1` and `yourFlower2` in the same order.\n",
    "- Define a list, `ourList`, by concatenating `myList` and `yourList`.\n",
    "- Append the user input `theirFlower` to the end of `ourList`.\n",
    "- Replace `myFlower2` in `ourList` with `theirFlower`.\n",
    "- Remove the third element of `ourList`.\n",
    "\n",
    "Observe the output of each print statement carefully to understand what was done by each task of the program.\n",
    "\n",
    "Ex: If the input is:\n",
    "\n",
    "```\n",
    "rose\n",
    "peony\n",
    "lily\n",
    "rose\n",
    "daisy\n",
    "aster\n",
    "```\n",
    "the output is:\n",
    "\n",
    "```\n",
    "['rose', 'peony', 'lily']\n",
    "['rose', 'daisy']\n",
    "['rose', 'peony', 'lily', 'rose', 'daisy']\n",
    "['rose', 'peony', 'lily', 'rose', 'daisy', 'aster']\n",
    "['rose', 'aster', 'lily', 'rose', 'daisy', 'aster']\n",
    "['rose', 'aster', 'rose', 'daisy', 'aster']\n",
    "\n",
    "```\n"
   ]
  },
  {
   "cell_type": "code",
   "execution_count": null,
   "metadata": {
    "id": "sXmUuZIsnpkp"
   },
   "outputs": [],
   "source": [
    "myFlower1 = input()\n",
    "myFlower2 = input()\n",
    "myFlower3 = input()\n",
    "\n",
    "yourFlower1 = input()\n",
    "yourFlower2 = input()\n",
    "\n",
    "theirFlower = input()\n",
    "\n",
    "# Define myList containing myFlower1, myFlower2, and myFlower3 in that order\n",
    "# Your code here\n",
    "print(myList)\n",
    "\n",
    "# Define yourList containing yourFlower1 and yourFlower2 in that order\n",
    "# Your code here\n",
    "print(yourList)\n",
    "\n",
    "# Define ourList by concatenating myList and yourList\n",
    "# Your code here\n",
    "print(ourList)\n",
    "\n",
    "# Append theirFlower to the end of ourList\n",
    "# Your code here\n",
    "print(ourList)\n",
    "\n",
    "# Replace myFlower2 in our_list with theirFlower\n",
    "# Your code here\n",
    "print(ourList)\n",
    "\n",
    "# Remove the third element of ourList\n",
    "# Your code here\n",
    "print(ourList)"
   ]
  },
  {
   "cell_type": "markdown",
   "metadata": {
    "id": "xH1CA_NIqIhI"
   },
   "source": [
    "#**LAB 2: Set basics**\n",
    "\n",
    "Given the user inputs, complete a program that does the following tasks:\n",
    "- Define a set, `fruits`, containing the user inputs `myFruit1`, `myFruit2`, and `myFruit3`.\n",
    "- Add the user input `theirFruit` to `fruits`.\n",
    "- Find the intersection of `fruits` and `yourFruit1` and `yourFruit2`\n",
    "- Remove `myFruit1` from `fruits`.\n",
    "\n",
    "Note: For testing purposes, sets are printed using sorted() for comparison.\n",
    "\n",
    "Ex: If the input is:\n",
    "\n",
    "```\n",
    "apple\n",
    "peach\n",
    "lemon\n",
    "apple\n",
    "pear\n",
    "plum\n",
    "```\n",
    "the output is:\n",
    "\n",
    "```\n",
    "['apple', 'lemon', 'peach']\n",
    "['apple', 'lemon', 'peach', 'plum']\n",
    "['apple']\n",
    "['lemon', 'peach', 'plum']\n",
    "```\n"
   ]
  },
  {
   "cell_type": "code",
   "execution_count": null,
   "metadata": {
    "id": "qZ1WOx-BqQCs"
   },
   "outputs": [],
   "source": [
    "myFruit1 = input()\n",
    "myFruit2 = input()\n",
    "myFruit3 = input()\n",
    "\n",
    "yourFruit1 = input()\n",
    "yourFruit2 = input()\n",
    "\n",
    "theirFruit = input()\n",
    "\n",
    "# Define a set, fruits, containing myFruit1, myFruit2, and myFruit3\n",
    "# Your code here\n",
    "print(sorted(fruits))\n",
    "\n",
    "# Add theirFruit to fruits\n",
    "# Your code here\n",
    "print(sorted(fruits))\n",
    "\n",
    "# Find the intersection of fruits and yourFruit1 and yourFruit2\n",
    "fruitsInter = # Your code here\n",
    "print(sorted(fruitsInter))\n",
    "\n",
    "# Remove myFruit1 from fruits\n",
    "# Your code here\n",
    "print(sorted(fruits))"
   ]
  },
  {
   "cell_type": "markdown",
   "metadata": {
    "id": "RJ9d97R-qwPn"
   },
   "source": [
    "#**LAB 3: Importing packages**\n",
    "\n",
    "Import the necessary modules and read in a csv file. The `homes` dataset contains 18 features giving the characteristics of 76 homes being sold. The modules will be used with the `homes.csv` file to perform a linear regression. Linear regression will be covered in a different chapter.\n",
    "\n",
    "- Import the `NumPy` and `pandas` packages with the aliases used in this material\n",
    "- Import the function `LinearRegression` from the `sklearn.linear_model` package\n",
    "- Read in the csv file `homes.csv`\n",
    "\n",
    "Ex: If the csv file `homes_small.csv` is used instead of `homes.csv`, the output is:\n",
    "```\n",
    "The intercept of the regression is 249.522\n",
    "The slope of the regression is 36.758\n",
    "```"
   ]
  },
  {
   "cell_type": "code",
   "execution_count": null,
   "metadata": {
    "id": "YM4TSud6q1b5"
   },
   "outputs": [],
   "source": [
    "# Import NumPy and pandas\n",
    "# Your code here\n",
    "\n",
    "# Import the LinearRegression function from sklearn.linear_model\n",
    "# Your code here\n",
    "\n",
    "# Read in the csv file homes.csv\n",
    "homes = pd.# Your code here\n",
    "\n",
    "# Store relevant columns as variables\n",
    "y = homes['Price']\n",
    "y = np.reshape(y.values, (-1,1))\n",
    "X = homes['Floor']\n",
    "X = np.reshape(X.values, (-1,1))\n",
    "\n",
    "# Fit a least squares regression model\n",
    "linModel = LinearRegression()\n",
    "linModel.fit(X,y)\n",
    "\n",
    "# Print the intercept and slope of the regression\n",
    "print('The intercept of the regression is ', end=\"\")\n",
    "print('%.3f' % linModel.intercept_)\n",
    "\n",
    "print('The slope of the regression is ', end=\"\")\n",
    "print('%.3f' % linModel.coef_)"
   ]
  }
 ],
 "metadata": {
  "colab": {
   "authorship_tag": "ABX9TyNH53VPKzDG5b0tJZs/IcCV",
   "provenance": []
  },
  "kernelspec": {
   "display_name": "Python 3",
   "name": "python3"
  },
  "language_info": {
   "name": "python"
  }
 },
 "nbformat": 4,
 "nbformat_minor": 0
}
